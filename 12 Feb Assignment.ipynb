{
 "cells": [
  {
   "cell_type": "markdown",
   "id": "839d203e-4792-480e-b2ad-e164f5dabda9",
   "metadata": {},
   "source": [
    "##Q1. What is an Exception in python? Write the difference between Exceptions and Syntax errors."
   ]
  },
  {
   "cell_type": "markdown",
   "id": "6540c047-25e9-4c2d-bbdd-0673aa435ed1",
   "metadata": {},
   "source": [
    "Ans : In Python, an Exception is an error that occurs during the execution of a program. When an Exception occurs, the program stops executing and Python raises an error message that describes the type of exception that occurred and the line of code where the exception occurred.\n",
    "\n",
    "Exceptions can occur for a variety of reasons, such as when a program tries to perform an operation on data that is not the expected type or when a program tries to access a resource that is not available. Python provides a set of built-in Exception classes that can be used to handle different types of exceptions.\n",
    "\n",
    "Syntax errors, on the other hand, occur when there is a problem with the syntax of the Python code itself. These errors occur before the program is executed and are caught by the Python interpreter before the code is run. Examples of syntax errors include forgetting to close a parentheses or a quotation mark, or using an incorrect keyword or operator."
   ]
  },
  {
   "cell_type": "markdown",
   "id": "7dcb3367-1aac-4051-a82e-c42d647a7e49",
   "metadata": {},
   "source": [
    "##Q2. What happens when an exception is not handled? Explain with an example"
   ]
  },
  {
   "cell_type": "markdown",
   "id": "66e6f789-da20-45ff-8a04-a9d4b7f9cb9b",
   "metadata": {},
   "source": [
    "Ans : When an exception is not handled in a Python program, it will cause the program to terminate and an error message will be displayed that describes the type of exception that occurred and the line of code where the exception occurred.\n",
    "\n",
    "Here's an example that demonstrates what happens when an exception is not handled:"
   ]
  },
  {
   "cell_type": "code",
   "execution_count": 1,
   "id": "d4095c49-dbfc-483d-8aa6-238440fd7f40",
   "metadata": {},
   "outputs": [
    {
     "ename": "ZeroDivisionError",
     "evalue": "division by zero",
     "output_type": "error",
     "traceback": [
      "\u001b[0;31m---------------------------------------------------------------------------\u001b[0m",
      "\u001b[0;31mZeroDivisionError\u001b[0m                         Traceback (most recent call last)",
      "Cell \u001b[0;32mIn[1], line 2\u001b[0m\n\u001b[1;32m      1\u001b[0m \u001b[38;5;66;03m# Example of an unhandled exception\u001b[39;00m\n\u001b[0;32m----> 2\u001b[0m a \u001b[38;5;241m=\u001b[39m \u001b[38;5;241;43m10\u001b[39;49m\u001b[43m \u001b[49m\u001b[38;5;241;43m/\u001b[39;49m\u001b[43m \u001b[49m\u001b[38;5;241;43m0\u001b[39;49m\n\u001b[1;32m      3\u001b[0m \u001b[38;5;28mprint\u001b[39m(\u001b[38;5;124m\"\u001b[39m\u001b[38;5;124mResult: \u001b[39m\u001b[38;5;124m\"\u001b[39m, a)\n",
      "\u001b[0;31mZeroDivisionError\u001b[0m: division by zero"
     ]
    }
   ],
   "source": [
    "# Example of an unhandled exception\n",
    "a = 10 / 0\n",
    "print(\"Result: \", a)"
   ]
  },
  {
   "cell_type": "markdown",
   "id": "efea1725-3f33-46f6-acb4-cf1a40a71932",
   "metadata": {},
   "source": [
    "As we can see from the error message, Python tells us that a ZeroDivisionError occurred and that it was caused by a division by zero on line 1 of the code. The \"Traceback\" section of the error message shows the sequence of function calls that led to the exception.\n",
    "\n",
    "In summary, if an exception is not handled in a Python program, it will cause the program to terminate and display an error message that describes the type of exception that occurred and the line of code where the exception occurred. It's important to handle exceptions in your code to prevent unexpected program termination and to provide a graceful way to handle errors."
   ]
  },
  {
   "cell_type": "markdown",
   "id": "c8d52253-275f-4144-9d35-a95cfcf54361",
   "metadata": {},
   "source": [
    "##Q3. Which Python statements are used to catch and handle exceptions? Explain with an example."
   ]
  },
  {
   "cell_type": "markdown",
   "id": "adf380bb-3480-4d63-a298-9cd561b373dc",
   "metadata": {},
   "source": [
    "Ans : In Python, the try and except statements are used to catch and handle exceptions. The try statement is used to enclose a block of code that might raise an exception, while the except statement is used to specify how to handle the exception if one is raised.\n",
    "\n",
    "Here's an example that demonstrates how to catch and handle an exception in Python using try and except:"
   ]
  },
  {
   "cell_type": "markdown",
   "id": "98006452-989c-461a-a091-fa9d1e72ab1a",
   "metadata": {},
   "source": [
    "##Q4. Explain with an example:"
   ]
  },
  {
   "cell_type": "code",
   "execution_count": 2,
   "id": "3d94b1fa-0207-422c-925a-9f7e62a130de",
   "metadata": {},
   "outputs": [
    {
     "name": "stdout",
     "output_type": "stream",
     "text": [
      "a = 2.0\n"
     ]
    }
   ],
   "source": [
    "try:\n",
    "    a = 10 / 5\n",
    "except ZeroDivisionError:\n",
    "    print(\"Error: Division by zero\")\n",
    "else:\n",
    "    print(\"a =\", a)"
   ]
  },
  {
   "cell_type": "code",
   "execution_count": 3,
   "id": "0521dfd9-1b5e-4ce2-87a5-15076f3cc870",
   "metadata": {},
   "outputs": [
    {
     "name": "stdout",
     "output_type": "stream",
     "text": [
      "Line 1\n",
      "Line 2\n",
      "Line 3\n",
      "\n"
     ]
    }
   ],
   "source": [
    "try:\n",
    "    file = open(\"example.txt\", \"r\")\n",
    "    contents = file.read()\n",
    "    print(contents)\n",
    "except FileNotFoundError:\n",
    "    print(\"Error: File not found\")\n",
    "finally:\n",
    "    file.close()"
   ]
  },
  {
   "cell_type": "code",
   "execution_count": 4,
   "id": "9c01e690-d285-4938-9d3f-7959afb85c61",
   "metadata": {},
   "outputs": [
    {
     "name": "stdout",
     "output_type": "stream",
     "text": [
      "Error: Division by zero\n"
     ]
    }
   ],
   "source": [
    "def divide(a, b):\n",
    "    if b == 0:\n",
    "        raise ZeroDivisionError(\"Error: Division by zero\")\n",
    "    else:\n",
    "        return a / b\n",
    "\n",
    "try:\n",
    "    result = divide(10, 0)\n",
    "except ZeroDivisionError as e:\n",
    "    print(e)"
   ]
  },
  {
   "cell_type": "markdown",
   "id": "ff3b3fd6-463e-47c5-a094-0fa6a2251e85",
   "metadata": {},
   "source": [
    "##Q5. What are Custom Exceptions in python? Why do we need Custom Exceptions? Explain with an example."
   ]
  },
  {
   "cell_type": "markdown",
   "id": "da3bf881-8880-4c06-9760-8d6c0de8a67a",
   "metadata": {},
   "source": [
    "Ans : In Python, custom exceptions can be defined by creating a new class that inherits from the built-in Exception class. These custom exceptions can be used to represent specific error conditions that are not covered by the built-in exceptions, and can provide more specific information about what went wrong in the code.\n",
    "\n",
    "We need custom exceptions in Python when we want to raise exceptions that are specific to our own code or application. By creating custom exceptions, we can give more meaningful error messages and provide better feedback to the user. This can help with debugging and troubleshooting, and can make our code more readable and maintainable."
   ]
  },
  {
   "cell_type": "markdown",
   "id": "6b501757-1433-4800-9544-b87cbc874d68",
   "metadata": {},
   "source": [
    "##Q6. Create custom exception class. Use this class to handle an exception."
   ]
  },
  {
   "cell_type": "code",
   "execution_count": 5,
   "id": "b4b2396e-84bc-4325-95c1-f85166839fde",
   "metadata": {},
   "outputs": [
    {
     "name": "stdout",
     "output_type": "stream",
     "text": [
      "Error: Division by zero not allowed\n"
     ]
    }
   ],
   "source": [
    "class CustomException(Exception):\n",
    "    def __init__(self, message):\n",
    "        self.message = message\n",
    "        super().__init__(self.message)\n",
    "\n",
    "def divide(a, b):\n",
    "    if b == 0:\n",
    "        raise CustomException(\"Error: Division by zero not allowed\")\n",
    "    else:\n",
    "        return a / b\n",
    "\n",
    "try:\n",
    "    result = divide(10, 0)\n",
    "except CustomException as e:\n",
    "    print(e.message)"
   ]
  },
  {
   "cell_type": "code",
   "execution_count": null,
   "id": "551ef37b-556f-4585-aa27-36f44b75224f",
   "metadata": {},
   "outputs": [],
   "source": []
  },
  {
   "cell_type": "code",
   "execution_count": null,
   "id": "6673041b-db61-4a9e-b07c-93fca89abfe6",
   "metadata": {},
   "outputs": [],
   "source": []
  },
  {
   "cell_type": "code",
   "execution_count": null,
   "id": "f9d54098-7791-410a-a0fd-ab887e7839b7",
   "metadata": {},
   "outputs": [],
   "source": []
  },
  {
   "cell_type": "code",
   "execution_count": null,
   "id": "caa5f5ab-e8c6-49d5-af1f-6aa175b340bd",
   "metadata": {},
   "outputs": [],
   "source": []
  },
  {
   "cell_type": "code",
   "execution_count": null,
   "id": "528c6973-16df-4cf8-888e-e14015a34b2f",
   "metadata": {},
   "outputs": [],
   "source": []
  },
  {
   "cell_type": "code",
   "execution_count": null,
   "id": "c161fe31-554e-402b-8b66-eb3a60d339bf",
   "metadata": {},
   "outputs": [],
   "source": []
  },
  {
   "cell_type": "code",
   "execution_count": null,
   "id": "9b86ad3b-3c26-4edd-a56f-da13e0940134",
   "metadata": {},
   "outputs": [],
   "source": []
  },
  {
   "cell_type": "code",
   "execution_count": null,
   "id": "795b8e42-39e4-4a15-9886-b8589d103543",
   "metadata": {},
   "outputs": [],
   "source": []
  },
  {
   "cell_type": "code",
   "execution_count": null,
   "id": "09df9e9b-bd45-4c81-a19d-8b2764c62a95",
   "metadata": {},
   "outputs": [],
   "source": []
  }
 ],
 "metadata": {
  "kernelspec": {
   "display_name": "Python 3 (ipykernel)",
   "language": "python",
   "name": "python3"
  },
  "language_info": {
   "codemirror_mode": {
    "name": "ipython",
    "version": 3
   },
   "file_extension": ".py",
   "mimetype": "text/x-python",
   "name": "python",
   "nbconvert_exporter": "python",
   "pygments_lexer": "ipython3",
   "version": "3.10.8"
  }
 },
 "nbformat": 4,
 "nbformat_minor": 5
}
